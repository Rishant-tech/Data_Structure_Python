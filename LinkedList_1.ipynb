{
 "cells": [
  {
   "cell_type": "markdown",
   "id": "5bcb73be",
   "metadata": {},
   "source": [
    "# defining the node for linked list"
   ]
  },
  {
   "cell_type": "code",
   "execution_count": 1,
   "id": "8ffcab1b",
   "metadata": {},
   "outputs": [],
   "source": [
    "class Node:\n",
    "    def __init__(self,data=None):\n",
    "        self.data=data\n",
    "        self.link=None"
   ]
  },
  {
   "cell_type": "code",
   "execution_count": 3,
   "id": "e1ec409b",
   "metadata": {},
   "outputs": [],
   "source": [
    "n=Node()"
   ]
  },
  {
   "cell_type": "code",
   "execution_count": 6,
   "id": "e6d5ee22",
   "metadata": {},
   "outputs": [
    {
     "name": "stdout",
     "output_type": "stream",
     "text": [
      "None\n",
      "None\n"
     ]
    }
   ],
   "source": [
    "print(n.data)\n",
    "print(n.link)"
   ]
  },
  {
   "cell_type": "code",
   "execution_count": 7,
   "id": "e6f35f35",
   "metadata": {},
   "outputs": [],
   "source": [
    "n=Node(10)"
   ]
  },
  {
   "cell_type": "code",
   "execution_count": 8,
   "id": "c6ba8059",
   "metadata": {},
   "outputs": [
    {
     "name": "stdout",
     "output_type": "stream",
     "text": [
      "10\n",
      "None\n"
     ]
    }
   ],
   "source": [
    "print(n.data)\n",
    "print(n.link)"
   ]
  },
  {
   "cell_type": "code",
   "execution_count": 9,
   "id": "f41eeea9",
   "metadata": {},
   "outputs": [],
   "source": [
    "n=Node()"
   ]
  },
  {
   "cell_type": "markdown",
   "id": "591171a8",
   "metadata": {},
   "source": [
    "# implementing the linked list"
   ]
  },
  {
   "cell_type": "code",
   "execution_count": 10,
   "id": "dcb177f0",
   "metadata": {},
   "outputs": [],
   "source": [
    "class LinkedList:\n",
    "    def __init__(self):\n",
    "        self.head=None      #first value of the linked list"
   ]
  },
  {
   "cell_type": "code",
   "execution_count": 11,
   "id": "fbc416cc",
   "metadata": {},
   "outputs": [],
   "source": [
    "LL=LinkedList()"
   ]
  },
  {
   "cell_type": "code",
   "execution_count": 13,
   "id": "d9125a26",
   "metadata": {},
   "outputs": [
    {
     "name": "stdout",
     "output_type": "stream",
     "text": [
      "None\n"
     ]
    }
   ],
   "source": [
    "print(LL.head)"
   ]
  },
  {
   "cell_type": "code",
   "execution_count": 14,
   "id": "ccf37c55",
   "metadata": {},
   "outputs": [],
   "source": [
    "class LinkedList:\n",
    "    def __init__(self):\n",
    "        self.head=None      #first value of the linked list\n",
    "        \n",
    "    def traverse(self):\n",
    "        if self.head is None:\n",
    "            print(\"The linked list is empty!!\")\n",
    "        else:\n",
    "            while self.head is not None:\n",
    "                print(self.head.data)\n",
    "                self.head=self.head.link\n",
    "                \n",
    "            "
   ]
  },
  {
   "cell_type": "code",
   "execution_count": 15,
   "id": "9b87b26a",
   "metadata": {},
   "outputs": [],
   "source": [
    "LL1=LinkedList()\n"
   ]
  },
  {
   "cell_type": "code",
   "execution_count": 16,
   "id": "eb8cfdfa",
   "metadata": {},
   "outputs": [
    {
     "name": "stdout",
     "output_type": "stream",
     "text": [
      "The linked list is empty!!\n"
     ]
    }
   ],
   "source": [
    "LL1.traverse()"
   ]
  },
  {
   "cell_type": "code",
   "execution_count": 41,
   "id": "34ae1e73",
   "metadata": {},
   "outputs": [],
   "source": [
    "#optimised version of LL for traversal purpose\n",
    "class Node:\n",
    "    def __init__(self,data=None):\n",
    "        self.data=data\n",
    "        self.link=None\n",
    "class LinkedList:\n",
    "    def __init__(self,head=None):\n",
    "        self.head=head     #first value of the linked list\n",
    "        \n",
    "    def traverse(self):\n",
    "        if self.head is None:\n",
    "            print(\"The linked list is empty!!\")\n",
    "        else:\n",
    "            n=Node()\n",
    "            n.data=self.head\n",
    "            while n is not None:\n",
    "                print(n.data,\"------>\",end=\" \")\n",
    "                n=n.link\n",
    "                "
   ]
  },
  {
   "cell_type": "code",
   "execution_count": 42,
   "id": "59d67514",
   "metadata": {},
   "outputs": [],
   "source": [
    "LL1=LinkedList()"
   ]
  },
  {
   "cell_type": "code",
   "execution_count": 43,
   "id": "2d54d278",
   "metadata": {},
   "outputs": [
    {
     "name": "stdout",
     "output_type": "stream",
     "text": [
      "The linked list is empty!!\n"
     ]
    }
   ],
   "source": [
    "LL1.traverse()"
   ]
  },
  {
   "cell_type": "code",
   "execution_count": 65,
   "id": "470bb976",
   "metadata": {},
   "outputs": [],
   "source": [
    "class Node:\n",
    "    def __init__(self,data=None):\n",
    "        self.data=data\n",
    "        self.link=None\n",
    "class LinkedList:\n",
    "    def __init__(self):\n",
    "        self.head=None   #first value of the linked list\n",
    "    def traverse(self):\n",
    "        if self.head is None:\n",
    "            print(\"The linked list is empty!!\")\n",
    "        else:\n",
    "            n=self.head\n",
    "            while n is not None:\n",
    "                print(n.data,\"------>\",end=\" \")\n",
    "                n=n.link\n",
    "    def add_S(self,data):\n",
    "        new_node=Node(data)\n",
    "        new_node.link=self.head\n",
    "        self.head=new_node"
   ]
  },
  {
   "cell_type": "code",
   "execution_count": 66,
   "id": "915965ba",
   "metadata": {},
   "outputs": [],
   "source": [
    "LL1=LinkedList()"
   ]
  },
  {
   "cell_type": "code",
   "execution_count": 67,
   "id": "23e46e05",
   "metadata": {},
   "outputs": [
    {
     "name": "stdout",
     "output_type": "stream",
     "text": [
      "The linked list is empty!!\n"
     ]
    }
   ],
   "source": [
    "LL1.traverse()"
   ]
  },
  {
   "cell_type": "code",
   "execution_count": 68,
   "id": "3e079665",
   "metadata": {},
   "outputs": [],
   "source": [
    "LL1.add_S(10)"
   ]
  },
  {
   "cell_type": "code",
   "execution_count": 69,
   "id": "e96c6582",
   "metadata": {},
   "outputs": [],
   "source": [
    "LL1.add_S(100)"
   ]
  },
  {
   "cell_type": "code",
   "execution_count": 70,
   "id": "3d88509c",
   "metadata": {},
   "outputs": [],
   "source": [
    "LL1.add_S(500)"
   ]
  },
  {
   "cell_type": "code",
   "execution_count": 71,
   "id": "27f3691d",
   "metadata": {},
   "outputs": [
    {
     "name": "stdout",
     "output_type": "stream",
     "text": [
      "500 ------> 100 ------> 10 ------> "
     ]
    }
   ],
   "source": [
    "LL1.traverse()"
   ]
  },
  {
   "cell_type": "code",
   "execution_count": 8,
   "id": "e7a8d101",
   "metadata": {},
   "outputs": [
    {
     "name": "stdout",
     "output_type": "stream",
     "text": [
      "\n",
      "The element is added successfully at begnning!! 20\n",
      "\n",
      "The element is added successfully at end!! 30\n",
      "\n",
      "The element is added successfully at begnning!! 200\n",
      "\n",
      "The element is added successfully at end!! 500\n",
      "\n",
      "The LinkedList is :  200 ---------> 20 ---------> 30 ---------> 500 ---------> "
     ]
    }
   ],
   "source": [
    "class Node:\n",
    "    def __init__(self,data=None):\n",
    "        self.data=data\n",
    "        self.link=None\n",
    "\n",
    "class LinkedList:\n",
    "    def __init__(self):\n",
    "        self.head=None\n",
    "    def display(self):\n",
    "        if self.head is None:\n",
    "            print(\"\\nThe LinkedList is empty\")\n",
    "        else:\n",
    "            n=self.head\n",
    "            print(\"\\nThe LinkedList is : \",end=\" \")\n",
    "            while n is not None:\n",
    "                print(n.data,\"--------->\",end=\" \")\n",
    "                n=n.link\n",
    "    def add_begin(self,data):\n",
    "        new_node=Node(data)\n",
    "        new_node.link=self.head\n",
    "        self.head=new_node\n",
    "        print(\"\\nThe element is added successfully at begnning!!\",data)\n",
    "    def add_end(self,data):\n",
    "        new_node=Node(data)\n",
    "        if self.head is None:\n",
    "            self.head=new_node\n",
    "            print(\"\\nThe element is added successfully at begnning as list was empty!!\",data)\n",
    "        else:\n",
    "            n=self.head\n",
    "            while n.link is not None:\n",
    "                n=n.link\n",
    "            n.link=new_node\n",
    "            print(\"\\nThe element is added successfully at end!!\",data)\n",
    "    def add_m(self):\n",
    "        pass\n",
    "    def rm_begin(self):\n",
    "        pass\n",
    "    def rm_end(self):\n",
    "        pass\n",
    "    def rm_m(self):\n",
    "        pass\n",
    "    def clear(self):\n",
    "        self.head=None\n",
    "    def empty(self):\n",
    "        if self.head is None:\n",
    "            print(\"\\nYes! the LinkedList is empty\")\n",
    "        else:\n",
    "            print(\"\\nNo! LinkedList contains some value please traverse\")\n",
    "\n",
    "L=LinkedList()\n",
    "##L.display()\n",
    "L.add_begin(20)     \n",
    "L.add_end(30)\n",
    "L.add_begin(200) \n",
    "L.add_end(500)\n",
    "L.display()"
   ]
  },
  {
   "cell_type": "code",
   "execution_count": null,
   "id": "f89631a3",
   "metadata": {},
   "outputs": [],
   "source": []
  }
 ],
 "metadata": {
  "kernelspec": {
   "display_name": "Python 3 (ipykernel)",
   "language": "python",
   "name": "python3"
  },
  "language_info": {
   "codemirror_mode": {
    "name": "ipython",
    "version": 3
   },
   "file_extension": ".py",
   "mimetype": "text/x-python",
   "name": "python",
   "nbconvert_exporter": "python",
   "pygments_lexer": "ipython3",
   "version": "3.9.12"
  }
 },
 "nbformat": 4,
 "nbformat_minor": 5
}
